{
 "cells": [
  {
   "cell_type": "code",
   "execution_count": 2,
   "id": "0468a2a5",
   "metadata": {},
   "outputs": [],
   "source": [
    "from datasets import load_dataset\n"
   ]
  },
  {
   "cell_type": "markdown",
   "id": "240cdd1f",
   "metadata": {},
   "source": [
    "# Load and inspect dataset\n"
   ]
  },
  {
   "cell_type": "code",
   "execution_count": 3,
   "id": "c2f24569",
   "metadata": {},
   "outputs": [],
   "source": [
    "import numpy as np\n",
    "\n",
    "# load data\n",
    "data_classes_two = np.load('Data/classes_two.npy', allow_pickle=True)\n",
    "data_classes = np.load('Data/classes.npy', allow_pickle=True)\n"
   ]
  },
  {
   "cell_type": "code",
   "execution_count": 33,
   "id": "15d43466",
   "metadata": {},
   "outputs": [
    {
     "data": {
      "text/plain": [
       "(array(['hatespeech', 'normal', 'offensive'], dtype='<U10'),\n",
       " array(['non-toxic', 'toxic'], dtype=object))"
      ]
     },
     "execution_count": 33,
     "metadata": {},
     "output_type": "execute_result"
    }
   ],
   "source": [
    "data_classes, data_classes_two"
   ]
  },
  {
   "cell_type": "code",
   "execution_count": 4,
   "id": "355f61d4",
   "metadata": {},
   "outputs": [],
   "source": [
    "import json\n",
    "\n",
    "with open('Data/dataset.json', 'r') as f:\n",
    "    data = json.load(f)"
   ]
  },
  {
   "cell_type": "code",
   "execution_count": 3,
   "id": "c06d406a",
   "metadata": {},
   "outputs": [],
   "source": [
    "with open('Data/post_id_divisions.json', 'r') as f:\n",
    "    post_id_divisions = json.load(f)"
   ]
  },
  {
   "cell_type": "code",
   "execution_count": 5,
   "id": "ae6ead4c",
   "metadata": {},
   "outputs": [],
   "source": [
    "data_classes_two = np.load('Data/classes_two.npy', allow_pickle=True)\n",
    "examples_binary = [\n",
    "    (\" \".join(data[k]['post_tokens']), label)\n",
    "    for k, label in zip(data.keys(), data_classes_two)\n",
    "]\n"
   ]
  },
  {
   "cell_type": "code",
   "execution_count": 8,
   "id": "58e3034a",
   "metadata": {},
   "outputs": [
    {
     "data": {
      "text/plain": [
       "[('i dont think im getting my baby them white 9 he has two white j and nikes not even touched',\n",
       "  'non-toxic'),\n",
       " ('we cannot continue calling ourselves feminists if the rights of all womxn arent addressed yes to a sexual offences public list but will a trans lesbian bisexual and queer womxn be able to enter their information on the reporting sheet gender forum',\n",
       "  'toxic')]"
      ]
     },
     "execution_count": 8,
     "metadata": {},
     "output_type": "execute_result"
    }
   ],
   "source": [
    "examples_binary"
   ]
  },
  {
   "cell_type": "code",
   "execution_count": 10,
   "id": "3ed69cf6",
   "metadata": {},
   "outputs": [
    {
     "name": "stdout",
     "output_type": "stream",
     "text": [
      "Number of samples: 20148\n",
      "{\n",
      "  \"post_id\": \"1179085312976445440_twitter\",\n",
      "  \"annotators\": [\n",
      "    {\n",
      "      \"label\": \"hatespeech\",\n",
      "      \"annotator_id\": 4,\n",
      "      \"target\": [\n",
      "        \"Caucasian\",\n",
      "        \"Women\"\n",
      "      ]\n",
      "    },\n",
      "    {\n",
      "      \"label\": \"hatespeech\",\n",
      "      \"annotator_id\": 2,\n",
      "      \"target\": [\n",
      "        \"Women\",\n",
      "        \"Caucasian\"\n",
      "      ]\n",
      "    },\n",
      "    {\n",
      "      \"label\": \"offensive\",\n",
      "      \"annotator_id\": 3,\n",
      "      \"target\": [\n",
      "        \"Women\",\n",
      "        \"Caucasian\"\n",
      "      ]\n",
      "    }\n",
      "  ],\n",
      "  \"rationales\": [\n",
      "    [\n",
      "      0,\n",
      "      1,\n",
      "      0,\n",
      "      0,\n",
      "      0,\n",
      "      0,\n",
      "      0,\n",
      "      0,\n",
      "      0,\n",
      "      0,\n",
      "      0,\n",
      "      0,\n",
      "      0,\n",
      "      0,\n",
      "      0,\n",
      "      0,\n",
      "      1,\n",
      "      1,\n",
      "      1,\n",
      "      0\n",
      "    ],\n",
      "    [\n",
      "      0,\n",
      "      0,\n",
      "      0,\n",
      "      0,\n",
      "      0,\n",
      "      0,\n",
      "      0,\n",
      "      0,\n",
      "      0,\n",
      "      0,\n",
      "      0,\n",
      "      0,\n",
      "      0,\n",
      "      0,\n",
      "      0,\n",
      "      0,\n",
      "      1,\n",
      "      1,\n",
      "      1,\n",
      "      1\n",
      "    ],\n",
      "    [\n",
      "      0,\n",
      "      1,\n",
      "      0,\n",
      "      0,\n",
      "      0,\n",
      "      0,\n",
      "      0,\n",
      "      0,\n",
      "      0,\n",
      "      0,\n",
      "      0,\n",
      "      0,\n",
      "      0,\n",
      "      0,\n",
      "      0,\n",
      "      0,\n",
      "      1,\n",
      "      1,\n",
      "      1,\n",
      "      1\n",
      "    ]\n",
      "  ],\n",
      "  \"post_tokens\": [\n",
      "    \"this\",\n",
      "    \"bitch\",\n",
      "    \"in\",\n",
      "    \"whataburger\",\n",
      "    \"eating\",\n",
      "    \"a\",\n",
      "    \"burger\",\n",
      "    \"with\",\n",
      "    \"no\",\n",
      "    \"top\",\n",
      "    \"bun\",\n",
      "    \"and\",\n",
      "    \"holding\",\n",
      "    \"it\",\n",
      "    \"palm\",\n",
      "    \"up\",\n",
      "    \"i\",\n",
      "    \"hate\",\n",
      "    \"white\",\n",
      "    \"bitches\"\n",
      "  ]\n",
      "}\n"
     ]
    }
   ],
   "source": [
    "print(f\"Number of samples: {len(data)}\")\n",
    "# View a sample\n",
    "sample_key = list(data.keys())[4]\n",
    "print(json.dumps(data[sample_key], indent=2))"
   ]
  },
  {
   "cell_type": "code",
   "execution_count": 6,
   "id": "25e1f4c1",
   "metadata": {},
   "outputs": [],
   "source": [
    "from collections import Counter\n",
    "\n",
    "examples = []\n",
    "\n",
    "for k, v in data.items():\n",
    "    text = \" \".join(v['post_tokens']) \n",
    "    \n",
    "    # Use majority vote to decide the label\n",
    "    if 'annotators' in v and v['annotators']:\n",
    "        labels = [ann['label'] for ann in v['annotators']] # Get labels from annotators\n",
    "        label_counts = Counter(labels) \n",
    "        majority_label = label_counts.most_common(1)[0][0] # Get the most common label\n",
    "        examples.append((text, majority_label))\n"
   ]
  },
  {
   "cell_type": "code",
   "execution_count": 14,
   "id": "c7b284b0",
   "metadata": {},
   "outputs": [
    {
     "data": {
      "text/plain": [
       "20148"
      ]
     },
     "execution_count": 14,
     "metadata": {},
     "output_type": "execute_result"
    }
   ],
   "source": [
    "len(examples)"
   ]
  },
  {
   "cell_type": "code",
   "execution_count": 15,
   "id": "6f025991",
   "metadata": {},
   "outputs": [
    {
     "data": {
      "text/plain": [
       "[('i dont think im getting my baby them white 9 he has two white j and nikes not even touched',\n",
       "  'normal'),\n",
       " ('we cannot continue calling ourselves feminists if the rights of all womxn arent addressed yes to a sexual offences public list but will a trans lesbian bisexual and queer womxn be able to enter their information on the reporting sheet gender forum',\n",
       "  'normal'),\n",
       " ('nawt yall niggers ignoring me', 'normal'),\n",
       " ('<user> i am bit confused coz chinese ppl can not access twitter thn how this ching chong using it i think he pakistani 🤔 🤔 🤔',\n",
       "  'hatespeech'),\n",
       " ('this bitch in whataburger eating a burger with no top bun and holding it palm up i hate white bitches',\n",
       "  'hatespeech')]"
      ]
     },
     "execution_count": 15,
     "metadata": {},
     "output_type": "execute_result"
    }
   ],
   "source": [
    "examples[:5]"
   ]
  },
  {
   "cell_type": "code",
   "execution_count": 16,
   "id": "16aab8f3",
   "metadata": {},
   "outputs": [
    {
     "name": "stdout",
     "output_type": "stream",
     "text": [
      "Label: normal\n",
      "Examples: ['i dont think im getting my baby them white 9 he has two white j and nikes not even touched', 'we cannot continue calling ourselves feminists if the rights of all womxn arent addressed yes to a sexual offences public list but will a trans lesbian bisexual and queer womxn be able to enter their information on the reporting sheet gender forum', 'nawt yall niggers ignoring me']\n",
      "Label: hatespeech\n",
      "Examples: ['<user> i am bit confused coz chinese ppl can not access twitter thn how this ching chong using it i think he pakistani 🤔 🤔 🤔', 'this bitch in whataburger eating a burger with no top bun and holding it palm up i hate white bitches', 'laura loomer raped me while screaming at me in her disgusting kike language and said we must exterminate the goyim laura loomer loomergate']\n",
      "Label: offensive\n",
      "Examples: ['nogs jews and dykes how enriching', 'all of my exes were cute but they were hoes i guess i only attract fly looking thots 😴', '<user> condoning drug use not kike at all thanks for that disclosure']\n"
     ]
    }
   ],
   "source": [
    "# show some examples for each label\n",
    "from collections import defaultdict\n",
    "\n",
    "label_examples = defaultdict(list)\n",
    "for text, label in examples:\n",
    "    label_examples[label].append(text)\n",
    "    \n",
    "for label, texts in label_examples.items():\n",
    "    print(f\"Label: {label}\")\n",
    "    print(f\"Examples: {texts[:3]}\")\n",
    "    "
   ]
  },
  {
   "cell_type": "code",
   "execution_count": 17,
   "id": "801cf10e",
   "metadata": {},
   "outputs": [
    {
     "data": {
      "image/png": "[encoded data removed]",
      "text/plain": [
       "<Figure size 640x480 with 1 Axes>"
      ]
     },
     "metadata": {},
     "output_type": "display_data"
    }
   ],
   "source": [
    "# See distribution of labels as percentages\n",
    "import matplotlib.pyplot as plt\n",
    "\n",
    "label_counts = Counter(label for _, label in examples)\n",
    "total = sum(label_counts.values())\n",
    "label_percentages = {label: (count / total) * 100 for label, count in label_counts.items()}\n",
    "\n",
    "plt.bar(label_percentages.keys(), label_percentages.values())\n",
    "plt.xlabel('Labels')\n",
    "plt.ylabel('Percentage (%)')\n",
    "plt.title('Distribution of Labels (Percentage)')\n",
    "plt.xticks(rotation=45)\n",
    "plt.show()"
   ]
  },
  {
   "cell_type": "code",
   "execution_count": 7,
   "id": "4e6e6266",
   "metadata": {},
   "outputs": [
    {
     "name": "stdout",
     "output_type": "stream",
     "text": [
      "Total examples: 20148\n",
      "Unanimous (all annotators agree): 9845 (48.86%)\n",
      "Two-label disagreement: 9384 (46.58%)\n",
      "Three-label disagreement: 919 (4.56%)\n"
     ]
    },
    {
     "data": {
      "image/png": "[encoded data removed]",
      "text/plain": [
       "<Figure size 640x480 with 1 Axes>"
      ]
     },
     "metadata": {},
     "output_type": "display_data"
    },
    {
     "name": "stdout",
     "output_type": "stream",
     "text": [
      "\n",
      "Post ID: 14971751_gab\n",
      "Disagreement level: 3\n",
      "Label counts: Counter({'normal': 1, 'offensive': 1, 'hatespeech': 1})\n",
      "Text: i have upgraded your status from gangsta to playa this nigger here understands what real issues are due to his objectivity and foresight\n",
      "\n",
      "Post ID: 1179080731642990592_twitter\n",
      "Disagreement level: 3\n",
      "Label counts: Counter({'offensive': 1, 'normal': 1, 'hatespeech': 1})\n",
      "Text: <user> <user> <user> <user> <user> <user> <user> <user> do not be 😂 i do not need a faggot here for me u sinner 😔\n",
      "\n",
      "Post ID: 25605196_gab\n",
      "Disagreement level: 3\n",
      "Label counts: Counter({'normal': 1, 'offensive': 1, 'hatespeech': 1})\n",
      "Text: last nights black lighting show ov yea such miscasting jewy jewnose is the white guy forcing <number> niglets to deal drugs but blond hergerman is the comet pizza guy keeping powerful niggerette girls trapped in his basement pizzagate seriously visit dc sometime <user> <user> <user> <user> <user> ‍\n",
      "\n",
      "Post ID: 1179083428924231680_twitter\n",
      "Disagreement level: 3\n",
      "Label counts: Counter({'offensive': 1, 'hatespeech': 1, 'normal': 1})\n",
      "Text: <user> <user> <user> <user> bro the world knows the pak is home to many un designated terrorists including osama bin laden same on you as kill all your minorities but in india muslims are happy many are educated rich and peaceful not like paki muslims only spreading hatred\n",
      "\n",
      "Post ID: 2098760_gab\n",
      "Disagreement level: 3\n",
      "Label counts: Counter({'offensive': 1, 'normal': 1, 'hatespeech': 1})\n",
      "Text: popped into ze ecuadorian embassy today ran into mein nigger ju ass we shared a scone or was it ein sophisticated scone eating robot\n"
     ]
    }
   ],
   "source": [
    "from collections import Counter\n",
    "import matplotlib.pyplot as plt\n",
    "import json\n",
    "\n",
    "def compute_annotator_disagreement(dataset, verbose=False, return_top_n=0, plot=False):\n",
    "    \"\"\"\n",
    "    Compute the number of unique labels assigned by annotators for each post,\n",
    "    and optionally plot disagreement distribution.\n",
    "    \n",
    "    Args:\n",
    "        dataset (dict): Loaded JSON dataset\n",
    "        verbose (bool): Print summary stats\n",
    "        return_top_n (int): If >0, return top N most disagreed examples\n",
    "        plot (bool): If True, plot a histogram of disagreement levels\n",
    "\n",
    "    Returns:\n",
    "        disagreement_stats (list of tuples): (post_id, disagreement_count, label_counter)\n",
    "        top_disagreements (optional): top N posts with highest disagreement\n",
    "    \"\"\"\n",
    "    disagreement_stats = []\n",
    "\n",
    "    for post_id, content in dataset.items():\n",
    "        labels = [ann['label'] for ann in content.get('annotators', [])]\n",
    "        label_counter = Counter(labels)\n",
    "        disagreement_count = len(label_counter)\n",
    "        disagreement_stats.append((post_id, disagreement_count, label_counter))\n",
    "\n",
    "    if verbose:\n",
    "        total = len(disagreement_stats)\n",
    "        unanimous = sum(1 for _, c, _ in disagreement_stats if c == 1)\n",
    "        mild_disagreement = sum(1 for _, c, _ in disagreement_stats if c == 2)\n",
    "        full_disagreement = sum(1 for _, c, _ in disagreement_stats if c >= 3)\n",
    "\n",
    "        print(f\"Total examples: {total}\")\n",
    "        print(f\"Unanimous (all annotators agree): {unanimous} ({unanimous/total:.2%})\")\n",
    "        print(f\"Two-label disagreement: {mild_disagreement} ({mild_disagreement/total:.2%})\")\n",
    "        print(f\"Three-label disagreement: {full_disagreement} ({full_disagreement/total:.2%})\")\n",
    "\n",
    "    if plot:\n",
    "        disagreement_counts = [c for _, c, _ in disagreement_stats]\n",
    "        count_dist = Counter(disagreement_counts)\n",
    "        plt.bar(count_dist.keys(), count_dist.values(), color='gray')\n",
    "        plt.xlabel(\"Number of unique labels (Disagreement level)\")\n",
    "        plt.ylabel(\"Number of posts\")\n",
    "        plt.title(\"Annotator Disagreement Distribution\")\n",
    "        plt.xticks([1, 2, 3])\n",
    "        plt.grid(True, axis='y', linestyle='--', alpha=0.7)\n",
    "        plt.tight_layout()\n",
    "        plt.show()\n",
    "\n",
    "    if return_top_n > 0:\n",
    "        top_disagreements = sorted(disagreement_stats, key=lambda x: -x[1])[:return_top_n]\n",
    "        return disagreement_stats, top_disagreements\n",
    "\n",
    "    return disagreement_stats\n",
    "\n",
    "\n",
    "\n",
    "with open('Data/dataset.json', 'r') as f:\n",
    "    dataset = json.load(f)\n",
    "\n",
    "disagreement_stats, top_disagreements = compute_annotator_disagreement(dataset, verbose=True, return_top_n=5, plot=True)\n",
    "\n",
    "# Print top 5 most disagreed examples\n",
    "for post_id, count, label_counts in top_disagreements:\n",
    "    print(f\"\\nPost ID: {post_id}\")\n",
    "    print(f\"Disagreement level: {count}\")\n",
    "    print(f\"Label counts: {label_counts}\")\n",
    "    print(f\"Text: {' '.join(dataset[post_id]['post_tokens'])}\")\n",
    "\n"
   ]
  },
  {
   "cell_type": "markdown",
   "id": "2afd9707",
   "metadata": {},
   "source": [
    "##### Still have 50% of annotators that don't agree fully"
   ]
  },
  {
   "cell_type": "code",
   "execution_count": 8,
   "id": "7b24790b",
   "metadata": {},
   "outputs": [
    {
     "name": "stdout",
     "output_type": "stream",
     "text": [
      "Unanimous: 9845, Offensive vs Hatespeech: 3916, Normal vs Other: 5468, Skipped (3-label): 919\n"
     ]
    }
   ],
   "source": [
    "from collections import Counter\n",
    "\n",
    "\n",
    "def resolve_disagreements_custom(dataset, disagreement_stats):\n",
    "    resolved = []\n",
    "    counter_unanimous = 0\n",
    "    counter_hatespeech = 0\n",
    "    counter_off_normal = 0\n",
    "    counter_skipped = 0\n",
    "\n",
    "    for post_id, disagreement, label_counts in disagreement_stats:\n",
    "        if disagreement == 3:\n",
    "            counter_skipped += 1\n",
    "            continue  # skip level 3 disagreements\n",
    "\n",
    "        text = \" \".join(dataset[post_id]['post_tokens'])\n",
    "        labels = list(label_counts.elements())\n",
    "        label_set = set(label_counts.keys())\n",
    "\n",
    "        # Case 1: unanimous\n",
    "        if disagreement == 1:\n",
    "            counter_unanimous += 1\n",
    "            resolved_label = labels[0]\n",
    "\n",
    "        # Case 2: offensive vs hatespeech → resolve as hatespeech\n",
    "        elif disagreement == 2 and label_set == {\"offensive\", \"hatespeech\"}:\n",
    "            counter_hatespeech += 1\n",
    "            resolved_label = \"hatespeech\"\n",
    "\n",
    "        # Case 3: normal vs offensive or normal vs hatespeech → majority\n",
    "        else:\n",
    "            counter_off_normal += 1\n",
    "            resolved_label = Counter(labels).most_common(1)[0][0]\n",
    "\n",
    "        resolved.append((text, resolved_label))\n",
    "\n",
    "    print(f\"Unanimous: {counter_unanimous}, Offensive vs Hatespeech: {counter_hatespeech}, Normal vs Other: {counter_off_normal}, Skipped (3-label): {counter_skipped}\")\n",
    "    return resolved\n",
    "\n",
    "\n",
    "resolved_examples_custom = resolve_disagreements_custom(dataset, disagreement_stats)"
   ]
  },
  {
   "cell_type": "code",
   "execution_count": 9,
   "id": "a72e963f",
   "metadata": {},
   "outputs": [],
   "source": [
    "# combine hatespeech and offensive as toxic non-toxic\n",
    "data_binary = [\n",
    "    (text, \"toxic\" if label in [\"hatespeech\", \"offensive\"] else \"non-toxic\")\n",
    "    for text, label in resolved_examples_custom\n",
    "]"
   ]
  },
  {
   "cell_type": "code",
   "execution_count": 21,
   "id": "118f09ed",
   "metadata": {},
   "outputs": [
    {
     "data": {
      "image/png": "[encoded data removed]",
      "text/plain": [
       "<Figure size 640x480 with 1 Axes>"
      ]
     },
     "metadata": {},
     "output_type": "display_data"
    }
   ],
   "source": [
    "import matplotlib.pyplot as plt\n",
    "\n",
    "label_counts = Counter(label for _, label in data_binary)\n",
    "total = sum(label_counts.values())\n",
    "label_percentages = {label: (count / total) * 100 for label, count in label_counts.items()}\n",
    "\n",
    "plt.bar(label_percentages.keys(), label_percentages.values())\n",
    "plt.xlabel('Labels')\n",
    "plt.ylabel('Percentage (%)')\n",
    "plt.title('Distribution of Labels (Percentage)')\n",
    "plt.xticks(rotation=45)\n",
    "plt.show()"
   ]
  },
  {
   "cell_type": "code",
   "execution_count": 10,
   "id": "93e2674e",
   "metadata": {},
   "outputs": [],
   "source": [
    "from sklearn.model_selection import train_test_split\n",
    "\n",
    "# Split original clean data\n",
    "train_clean, test_clean = train_test_split(data_binary, test_size=0.2, random_state=42)"
   ]
  },
  {
   "cell_type": "code",
   "execution_count": 11,
   "id": "e5c61f9a",
   "metadata": {},
   "outputs": [
    {
     "data": {
      "text/plain": [
       "(15383, 3846)"
      ]
     },
     "execution_count": 11,
     "metadata": {},
     "output_type": "execute_result"
    }
   ],
   "source": [
    "len(train_clean), len(test_clean)  "
   ]
  },
  {
   "cell_type": "code",
   "execution_count": 25,
   "id": "e302ed13",
   "metadata": {},
   "outputs": [
    {
     "data": {
      "image/png": "[encoded data removed]",
      "text/plain": [
       "<Figure size 640x480 with 1 Axes>"
      ]
     },
     "metadata": {},
     "output_type": "display_data"
    }
   ],
   "source": [
    "# see distribution of labels in train and test sets\n",
    "train_label_counts = Counter(label for _, label in train_clean)\n",
    "test_label_counts = Counter(label for _, label in test_clean)\n",
    "train_total = sum(train_label_counts.values())\n",
    "test_total = sum(test_label_counts.values())\n",
    "train_label_percentages = {label: (count / train_total) * 100 for label, count in train_label_counts.items()}\n",
    "test_label_percentages = {label: (count / test_total) * 100 for label, count in test_label_counts.items()}\n",
    "\n",
    "plt.bar(train_label_percentages.keys(), train_label_percentages.values(), alpha=0.5, label='Train')\n",
    "plt.bar(test_label_percentages.keys(), test_label_percentages.values(), alpha=0.5, label='Test')\n",
    "plt.xlabel('Labels')\n",
    "plt.ylabel('Percentage (%)')\n",
    "plt.title('Distribution of Labels in Train and Test Sets (Percentage)')\n",
    "plt.legend()\n",
    "plt.xticks(rotation=45)\n",
    "plt.show()"
   ]
  },
  {
   "cell_type": "markdown",
   "id": "c50dca73",
   "metadata": {},
   "source": [
    "##### Imbalance... oversample non-toxic samples? apply cross-entropy loss"
   ]
  },
  {
   "cell_type": "markdown",
   "id": "ec46e5a0",
   "metadata": {},
   "source": [
    "# Augmentation strategy"
   ]
  },
  {
   "cell_type": "markdown",
   "id": "706e443f",
   "metadata": {},
   "source": [
    "Goal: Train a model that performs well both on clean text and on adversarial variants. \n",
    "\n",
    "The idea is to augment the dataset so the model learns that \"hate\" and \"h8\" (or “hаtе”) mean the same thing in this context."
   ]
  },
  {
   "cell_type": "code",
   "execution_count": 12,
   "id": "dc88ab3d",
   "metadata": {},
   "outputs": [],
   "source": [
    "import requests\n",
    "from collections import defaultdict\n",
    "import random\n",
    "from transformers import AutoTokenizer, AutoModelForSequenceClassification, TrainingArguments, Trainer\n",
    "from pyleetspeak.LeetSpeaker import LeetSpeaker\n"
   ]
  },
  {
   "cell_type": "code",
   "execution_count": 13,
   "id": "d123ad52",
   "metadata": {},
   "outputs": [],
   "source": [
    "def build_homoglyph_map():\n",
    "    url = \"https://www.unicode.org/Public/security/latest/confusables.txt\" \n",
    "    response = requests.get(url) # Fetch the confusables data\n",
    "    raw_text = response.text     # Get the text content\n",
    "\n",
    "    homoglyph_map = defaultdict(list) \n",
    "\n",
    "    for line in raw_text.splitlines():\n",
    "        if line.startswith('#') or not line.strip(): # Skip comments and empty lines\n",
    "            continue\n",
    "        try:\n",
    "            src_hex, target_hex, *_ = line.split(';') # \n",
    "            src_char = chr(int(src_hex.strip(), 16))\n",
    "            target_chars = ''.join([chr(int(h, 16)) for h in target_hex.strip().split()])\n",
    "\n",
    "            # We only want visually similar substitutions that map to 1 character\n",
    "            if len(src_char) == 1 and len(target_chars) == 1:\n",
    "                ascii_base = target_chars.lower()\n",
    "                if ascii_base.isascii() and ascii_base.isalnum():\n",
    "                    homoglyph_map[ascii_base].append(src_char)\n",
    "        except Exception as e:\n",
    "            continue  # skip malformed lines\n",
    "\n",
    "    # Convert defaultdict to normal dict and deduplicate entries\n",
    "    homoglyph_map = {k: list(set(v)) for k, v in homoglyph_map.items()}\n",
    "\n",
    "    return homoglyph_map\n",
    "\n",
    "\n",
    "\n",
    "def random_homoglyph_substitution(text, homoglyph_map, prob=0.4):\n",
    "    new_text = \"\"\n",
    "    for char in text:\n",
    "        if char.isalpha() and char.lower() in homoglyph_map and random.random() < prob:\n",
    "            replacement = random.choice(homoglyph_map[char.lower()])\n",
    "            new_text += replacement\n",
    "        else:\n",
    "            new_text += char\n",
    "    return new_text\n",
    "\n",
    "\n",
    "def smart_homoglyph_substitution(text, homoglyph_map, target_words, prob=0.5):\n",
    "    tokens = text.split()\n",
    "    new_tokens = []\n",
    "\n",
    "    for token in tokens:\n",
    "        if any(word in token.lower() for word in target_words) and random.random() < prob:\n",
    "            new_token = ''.join(\n",
    "                random.choice(homoglyph_map[c.lower()]) if c.lower() in homoglyph_map and random.random() < 0.5 else c\n",
    "                for c in token\n",
    "            )\n",
    "            new_tokens.append(new_token)\n",
    "        else:\n",
    "            new_tokens.append(token)\n",
    "\n",
    "    return ' '.join(new_tokens)\n",
    "\n",
    "def leet_some_words(text, leeter, word_prob=0.6):\n",
    "    \"\"\"\n",
    "    Randomly leet some words in the text based on a probability.\n",
    "    \"\"\"\n",
    "    words = text.split()\n",
    "    new_words = []\n",
    "    for word in words:\n",
    "        if random.random() < word_prob:\n",
    "            new_words.append(leeter.text2leet(word))\n",
    "        else:\n",
    "            new_words.append(word)\n",
    "    return ' '.join(new_words)\n",
    "\n",
    "def augment_text(text, leeter, homoglyph_map, target_words=None):\n",
    "    mode = random.choice([\"leet\", \"homoglyph\", \"both\"])\n",
    "\n",
    "    if mode == \"leet\":\n",
    "        text = leet_some_words(text, leeter)\n",
    "    elif mode == \"homoglyph\":\n",
    "        text = smart_homoglyph_substitution(text, homoglyph_map, target_words or [])\n",
    "    elif mode == \"both\":\n",
    "        text = leet_some_words(text, leeter)\n",
    "        text = smart_homoglyph_substitution(text, homoglyph_map, target_words or [])\n",
    "    # mode == \"none\": return as is\n",
    "    return text\n",
    "\n",
    "\n",
    "# def augment_text(text, leeter, homoglyph_map):\n",
    "#     mode = random.choice([\"leet\", \"homoglyph\", \"both\", \"none\"])\n",
    "\n",
    "#     # mode = random.choices([\"leet\", \"homoglyph\", \"both\", \"none\"], \n",
    "#     #                      weights=[proba_leet, proba_leet_homoglyph, proba_both, proba_non], \n",
    "#     #                      k=1)[0]\n",
    "    \n",
    "#     if mode == \"leet\":\n",
    "#         text = leeter.text2leet(text)\n",
    "#     elif mode == \"homoglyph\":\n",
    "#         text = random_homoglyph_substitution(text, homoglyph_map)\n",
    "#     elif mode == \"both\":\n",
    "#         text = leeter.text2leet(text)\n",
    "#         text = random_homoglyph_substitution(text, homoglyph_map)\n",
    "#     return text\n"
   ]
  },
  {
   "cell_type": "code",
   "execution_count": 14,
   "id": "4688c249",
   "metadata": {},
   "outputs": [],
   "source": [
    "homoglyph_map = build_homoglyph_map()\n",
    "leeter = LeetSpeaker(change_prb=0.2, change_frq=0.5, mode=\"basic\", seed=None, verbose=False)\n",
    "\n",
    "augmented_train = [\n",
    "    (augment_text(text, leeter, homoglyph_map=homoglyph_map), label)\n",
    "    for text, label in train_clean\n",
    "]\n"
   ]
  },
  {
   "cell_type": "code",
   "execution_count": 15,
   "id": "8bf80391",
   "metadata": {},
   "outputs": [
    {
     "name": "stdout",
     "output_type": "stream",
     "text": [
      "Original: his english periscope was awful apparently his chinese one was much better and had 1 6 m watching i do not speak gookanese though so be funny to see how this plays out with chink whales putting stops every <number> (Label: toxic)\n",
      "Augmented: his english periscope w@s 4wf_l app@rently his chinese one was much better and had 1 6 m watching i do not speak g0okanese though so b3 funny t0 see how this plays out with ch1nk whales putting st0ps every <number> (Label: toxic)\n",
      "Original: if somebody is not white than they are going to be rejected by wn on the grounds they are not white women in general need pushed out of leadership positions in our movement and she not doing good work she setting a very bad precedent for our future actually (Label: toxic)\n",
      "Augmented: if s0mebody is n0t white than they are going to b3 rejected by wn on the gr0unds they are not white women in general need pushed out of leadership positions in our movement and she n0t d0ing good work she s3tt1ng a very bad precedent for 0_r futur3 act_ally (Label: toxic)\n",
      "Original: <user> <user> yes even radical muzzies planning to take over america over <number> are running for office and <number> just in congress i will not support the muslim brotherhood i am not stupid any more than i would vote for socialism screw the dems (Label: non-toxic)\n",
      "Augmented: <user> <user> y3s even rad1cal muzzies pl@nn1ng to tak3 over america over <number> ar3 running for office and <number> just in congress i w1ll not supp0rt th3 muslim brotherhood i am not stupid any more than i would vote for socialism scr3w the dems (Label: non-toxic)\n",
      "Original: <user> thank you finally a white person stating facts (Label: non-toxic)\n",
      "Augmented: <user> thank you finally a wh1te person stating facts (Label: non-toxic)\n",
      "Original: hitler met with muslim leaders he had a lot in common (Label: toxic)\n",
      "Augmented: hitler met with muslim leaders he had a lot in common (Label: toxic)\n"
     ]
    }
   ],
   "source": [
    "# see if the augmentation worked\n",
    "for i in range(5):\n",
    "    original_text, original_label = train_clean[i]\n",
    "    augmented_text, augmented_label = augmented_train[i]\n",
    "    print(f\"Original: {original_text} (Label: {original_label})\")\n",
    "    print(f\"Augmented: {augmented_text} (Label: {augmented_label})\")\n",
    "    "
   ]
  },
  {
   "cell_type": "markdown",
   "id": "6cb233e8",
   "metadata": {},
   "source": [
    "# Model"
   ]
  },
  {
   "cell_type": "code",
   "execution_count": 16,
   "id": "b0c7fd1a",
   "metadata": {},
   "outputs": [],
   "source": [
    "portion_to_augment = 0.3  # Augment only 30% of train\n",
    "n_augmented = int(len(train_clean) * portion_to_augment)\n",
    "\n",
    "subset_to_augment = random.sample(train_clean, n_augmented)\n",
    "\n",
    "train_aug = [(augment_text(text, leeter, homoglyph_map=homoglyph_map), label) for text, label in subset_to_augment]\n",
    "\n",
    "# Final training set = clean + noisy subset\n",
    "train_final = train_clean + train_aug\n",
    "test_final = test_clean                # Only clean examples for fair testing\n",
    "\n"
   ]
  },
  {
   "cell_type": "code",
   "execution_count": 17,
   "id": "1010f42f",
   "metadata": {},
   "outputs": [],
   "source": [
    "label_map = {'non-toxic': 0, 'toxic': 1}"
   ]
  },
  {
   "cell_type": "code",
   "execution_count": 18,
   "id": "6597215e",
   "metadata": {},
   "outputs": [],
   "source": [
    "# Format for Hugging Face\n",
    "\n",
    "from datasets import Dataset\n",
    "\n",
    "train_dataset = Dataset.from_dict({\n",
    "    \"text\": [text for text, label in train_final],\n",
    "    \"label\": [label_map[label] for text, label in train_final]\n",
    "})\n",
    "\n",
    "test_dataset = Dataset.from_dict({\n",
    "    \"text\": [text for text, label in test_final],\n",
    "    \"label\": [label_map[label] for text, label in test_final]\n",
    "})\n",
    "\n"
   ]
  },
  {
   "cell_type": "code",
   "execution_count": 63,
   "id": "0a01b2d9",
   "metadata": {},
   "outputs": [
    {
     "data": {
      "application/vnd.jupyter.widget-view+json": {
       "model_id": "894e05a7118243dab828c7ceddd0a3d6",
       "version_major": 2,
       "version_minor": 0
      },
      "text/plain": [
       "Map:   0%|          | 0/19997 [00:00<?, ? examples/s]"
      ]
     },
     "metadata": {},
     "output_type": "display_data"
    },
    {
     "data": {
      "application/vnd.jupyter.widget-view+json": {
       "model_id": "37f9975e3be846cb8b618720ff7851cd",
       "version_major": 2,
       "version_minor": 0
      },
      "text/plain": [
       "Map:   0%|          | 0/3846 [00:00<?, ? examples/s]"
      ]
     },
     "metadata": {},
     "output_type": "display_data"
    }
   ],
   "source": [
    "# Tokenize the dataset \n",
    "\n",
    "tokenizer = AutoTokenizer.from_pretrained('tum-nlp/bert-hateXplain')\n",
    "\n",
    "def tokenize(example):\n",
    "    ''''\n",
    "    Tokenizes the input text using the provided tokenizer.\n",
    "    '''\n",
    "    return tokenizer(example[\"text\"], truncation=True, padding=\"max_length\", max_length=128) \n",
    "\n",
    "train_tokenized = train_dataset.map(tokenize, batched=True)\n",
    "test_tokenized = test_dataset.map(tokenize, batched=True)\n"
   ]
  },
  {
   "cell_type": "code",
   "execution_count": 64,
   "id": "f9a461c4",
   "metadata": {},
   "outputs": [
    {
     "name": "stderr",
     "output_type": "stream",
     "text": [
      "/Users/melina/.virtualenvs/base/lib/python3.11/site-packages/transformers/training_args.py:1594: FutureWarning: `evaluation_strategy` is deprecated and will be removed in version 4.46 of 🤗 Transformers. Use `eval_strategy` instead\n",
      "  warnings.warn(\n"
     ]
    },
    {
     "data": {
      "text/html": [
       "\n",
       "    <div>\n",
       "      \n",
       "      <progress value='3750' max='12500' style='width:300px; height:20px; vertical-align: middle;'></progress>\n",
       "      [ 3750/12500 33:10 < 1:17:26, 1.88 it/s, Epoch 3/10]\n",
       "    </div>\n",
       "    <table border=\"1\" class=\"dataframe\">\n",
       "  <thead>\n",
       " <tr style=\"text-align: left;\">\n",
       "      <th>Epoch</th>\n",
       "      <th>Training Loss</th>\n",
       "      <th>Validation Loss</th>\n",
       "      <th>Accuracy</th>\n",
       "      <th>F1 Macro</th>\n",
       "    </tr>\n",
       "  </thead>\n",
       "  <tbody>\n",
       "    <tr>\n",
       "      <td>1</td>\n",
       "      <td>0.508600</td>\n",
       "      <td>0.507452</td>\n",
       "      <td>0.786531</td>\n",
       "      <td>0.767626</td>\n",
       "    </tr>\n",
       "    <tr>\n",
       "      <td>2</td>\n",
       "      <td>0.486000</td>\n",
       "      <td>0.488492</td>\n",
       "      <td>0.800832</td>\n",
       "      <td>0.790955</td>\n",
       "    </tr>\n",
       "    <tr>\n",
       "      <td>3</td>\n",
       "      <td>0.452900</td>\n",
       "      <td>0.506640</td>\n",
       "      <td>0.797972</td>\n",
       "      <td>0.781398</td>\n",
       "    </tr>\n",
       "  </tbody>\n",
       "</table><p>"
      ],
      "text/plain": [
       "<IPython.core.display.HTML object>"
      ]
     },
     "metadata": {},
     "output_type": "display_data"
    },
    {
     "data": {
      "text/plain": [
       "TrainOutput(global_step=3750, training_loss=0.48003642374674477, metrics={'train_runtime': 1991.4423, 'train_samples_per_second': 100.415, 'train_steps_per_second': 6.277, 'total_flos': 148625239509504.0, 'train_loss': 0.48003642374674477, 'epoch': 3.0})"
      ]
     },
     "execution_count": 64,
     "metadata": {},
     "output_type": "execute_result"
    }
   ],
   "source": [
    "# Fine-tune the model\n",
    "from transformers import TrainingArguments, Trainer, AutoModelForSequenceClassification\n",
    "from transformers import EarlyStoppingCallback\n",
    "from sklearn.metrics import accuracy_score, f1_score\n",
    "\n",
    "\n",
    "def compute_metrics(pred):\n",
    "    labels = pred.label_ids\n",
    "    preds = pred.predictions.argmax(-1)\n",
    "    \n",
    "    acc = accuracy_score(labels, preds)\n",
    "    f1_macro = f1_score(labels, preds, average=\"macro\")\n",
    "    \n",
    "    return {\n",
    "        \"accuracy\": acc,\n",
    "        \"f1_macro\": f1_macro\n",
    "    }\n",
    "\n",
    "\n",
    "model = AutoModelForSequenceClassification.from_pretrained(\n",
    "    'tum-nlp/bert-hateXplain', num_labels=2\n",
    ")\n",
    "\n",
    "# training_args = TrainingArguments(\n",
    "#     output_dir=\"./results\",\n",
    "#     # evaluation_strategy=\"epoch\",\n",
    "#     per_device_train_batch_size=8,\n",
    "#     per_device_eval_batch_size=8,\n",
    "#     num_train_epochs=5,\n",
    "#     logging_dir=\"./logs\",\n",
    "#     # save_strategy=\"no\" \n",
    "    \n",
    "#     load_best_model_at_end=True,\n",
    "#     evaluation_strategy=\"epoch\",\n",
    "#     save_strategy=\"epoch\",\n",
    "#     metric_for_best_model=\"eval_loss\",\n",
    "#     greater_is_better=False,\n",
    "#     save_total_limit=1,\n",
    "    \n",
    "#     learning_rate=2e-5,\n",
    "#     warmup_ratio=0.1,  # or use warmup_steps if preferred\n",
    "#     lr_scheduler_type=\"linear\",\n",
    "\n",
    "    \n",
    "# )\n",
    "\n",
    "training_args = TrainingArguments(\n",
    "    output_dir=\"./results\",\n",
    "    per_device_train_batch_size=8,\n",
    "    per_device_eval_batch_size=8,\n",
    "    gradient_accumulation_steps=2,\n",
    "    num_train_epochs=10,\n",
    "    learning_rate=2e-5,\n",
    "    warmup_ratio=0.1,\n",
    "    weight_decay=0.01,\n",
    "    lr_scheduler_type=\"linear\",\n",
    "    label_smoothing_factor=0.1,\n",
    "    evaluation_strategy=\"epoch\",\n",
    "    save_strategy=\"epoch\",\n",
    "    load_best_model_at_end=True,\n",
    "    metric_for_best_model=\"eval_loss\",\n",
    "    greater_is_better=False,\n",
    "    save_total_limit=1,\n",
    "    logging_dir=\"./logs\",\n",
    ")\n",
    "\n",
    "\n",
    "trainer = Trainer(\n",
    "    model=model,\n",
    "    args=training_args,\n",
    "    train_dataset=train_tokenized,\n",
    "    eval_dataset=test_tokenized,\n",
    "    compute_metrics=compute_metrics,\n",
    "    callbacks=[EarlyStoppingCallback(early_stopping_patience=1)],\n",
    ")\n",
    "\n",
    "\n",
    "trainer.train()\n"
   ]
  },
  {
   "cell_type": "code",
   "execution_count": 65,
   "id": "0674c351",
   "metadata": {},
   "outputs": [
    {
     "data": {
      "text/html": [
       "\n",
       "    <div>\n",
       "      \n",
       "      <progress value='481' max='481' style='width:300px; height:20px; vertical-align: middle;'></progress>\n",
       "      [481/481 00:29]\n",
       "    </div>\n",
       "    "
      ],
      "text/plain": [
       "<IPython.core.display.HTML object>"
      ]
     },
     "metadata": {},
     "output_type": "display_data"
    },
    {
     "name": "stdout",
     "output_type": "stream",
     "text": [
      "{'eval_loss': 0.4884922504425049, 'eval_accuracy': 0.8008320332813312, 'eval_f1_macro': 0.7909548266422193, 'eval_runtime': 29.8914, 'eval_samples_per_second': 128.666, 'eval_steps_per_second': 16.092, 'epoch': 3.0}\n"
     ]
    }
   ],
   "source": [
    "results = trainer.evaluate() \n",
    "print(results)"
   ]
  },
  {
   "cell_type": "code",
   "execution_count": 68,
   "id": "e57b952b",
   "metadata": {},
   "outputs": [
    {
     "data": {
      "text/plain": [
       "('bert-hateXplain-finetuned/tokenizer_config.json',\n",
       " 'bert-hateXplain-finetuned/special_tokens_map.json',\n",
       " 'bert-hateXplain-finetuned/vocab.txt',\n",
       " 'bert-hateXplain-finetuned/added_tokens.json',\n",
       " 'bert-hateXplain-finetuned/tokenizer.json')"
      ]
     },
     "execution_count": 68,
     "metadata": {},
     "output_type": "execute_result"
    }
   ],
   "source": [
    "model.save_pretrained(\"bert-hateXplain-finetuned\")\n",
    "tokenizer.save_pretrained(\"bert-hateXplain-finetuned\")"
   ]
  },
  {
   "cell_type": "markdown",
   "id": "f59da0a6",
   "metadata": {},
   "source": [
    "# Compare Performances"
   ]
  },
  {
   "cell_type": "code",
   "execution_count": 19,
   "id": "0249c011",
   "metadata": {},
   "outputs": [],
   "source": [
    "texts_final = []\n",
    "labels_final = []\n",
    "for test in test_final:\n",
    "    texts_final.append(test[0])\n",
    "    labels_final.append(test[1])"
   ]
  },
  {
   "cell_type": "code",
   "execution_count": 20,
   "id": "672c1ce6",
   "metadata": {},
   "outputs": [
    {
     "name": "stderr",
     "output_type": "stream",
     "text": [
      "Device set to use cpu\n",
      "/Users/melina/.virtualenvs/base/lib/python3.11/site-packages/transformers/pipelines/text_classification.py:106: UserWarning: `return_all_scores` is now deprecated,  if want a similar functionality use `top_k=None` instead of `return_all_scores=True` or `top_k=1` instead of `return_all_scores=False`.\n",
      "  warnings.warn(\n",
      "Device set to use cpu\n"
     ]
    }
   ],
   "source": [
    "from transformers import AutoTokenizer, AutoModelForSequenceClassification, pipeline\n",
    "\n",
    "# Fine-tuned\n",
    "tokenizer_finetuned = AutoTokenizer.from_pretrained(\"bert-hateXplain-finetuned\")\n",
    "model_finetuned = AutoModelForSequenceClassification.from_pretrained(\"bert-hateXplain-finetuned\")\n",
    "clf_finetuned = pipeline(\"text-classification\", model=model_finetuned, tokenizer=tokenizer_finetuned, return_all_scores=False)\n",
    "\n",
    "# Pretrained\n",
    "tokenizer_pretrained = AutoTokenizer.from_pretrained(\"tum-nlp/bert-hateXplain\")\n",
    "model_pretrained = AutoModelForSequenceClassification.from_pretrained(\"tum-nlp/bert-hateXplain\")\n",
    "clf_pretrained = pipeline(\"text-classification\", model=model_pretrained, tokenizer=tokenizer_pretrained, return_all_scores=False)\n"
   ]
  },
  {
   "cell_type": "code",
   "execution_count": 21,
   "id": "44ba6912",
   "metadata": {},
   "outputs": [],
   "source": [
    "def get_preds(pipeline_model, texts):\n",
    "    preds = []\n",
    "    for text in texts:\n",
    "        out = pipeline_model(text)[0]['label']\n",
    "        pred = 1 if out.lower() in {\"toxic\", \"hate\"} else 0\n",
    "        preds.append(pred)\n",
    "    return preds\n"
   ]
  },
  {
   "cell_type": "code",
   "execution_count": 23,
   "id": "b89859f8",
   "metadata": {},
   "outputs": [],
   "source": [
    "y_pred_finetuned = get_preds(clf_finetuned, texts_final)\n",
    "y_pred_pretrained = get_preds(clf_pretrained, texts_final)\n"
   ]
  },
  {
   "cell_type": "code",
   "execution_count": 27,
   "id": "a9818bb8",
   "metadata": {},
   "outputs": [
    {
     "data": {
      "text/plain": [
       "(1, 1)"
      ]
     },
     "execution_count": 27,
     "metadata": {},
     "output_type": "execute_result"
    }
   ],
   "source": [
    "y_pred_pretrained[0], y_pred_finetuned[0]"
   ]
  },
  {
   "cell_type": "code",
   "execution_count": 30,
   "id": "3419c515",
   "metadata": {},
   "outputs": [
    {
     "name": "stdout",
     "output_type": "stream",
     "text": [
      "1 toxic\n"
     ]
    }
   ],
   "source": [
    "# use label_maps to convert to integer labels\n",
    "label_map = {'non-toxic': 0, 'toxic': 1}\n",
    "labels_int = [label_map[label] for label in labels_final]\n",
    "print(labels_int[0], labels_final[0])"
   ]
  },
  {
   "cell_type": "code",
   "execution_count": 31,
   "id": "22560459",
   "metadata": {},
   "outputs": [
    {
     "name": "stdout",
     "output_type": "stream",
     "text": [
      "Fine-tuned model performance:\n",
      "              precision    recall  f1-score   support\n",
      "\n",
      "   non-toxic       0.76      0.74      0.75      1525\n",
      "       toxic       0.83      0.84      0.84      2321\n",
      "\n",
      "    accuracy                           0.80      3846\n",
      "   macro avg       0.79      0.79      0.79      3846\n",
      "weighted avg       0.80      0.80      0.80      3846\n",
      "\n",
      "\n",
      " Pretrained model performance:\n",
      "              precision    recall  f1-score   support\n",
      "\n",
      "   non-toxic       0.78      0.71      0.74      1525\n",
      "       toxic       0.82      0.87      0.84      2321\n",
      "\n",
      "    accuracy                           0.80      3846\n",
      "   macro avg       0.80      0.79      0.79      3846\n",
      "weighted avg       0.80      0.80      0.80      3846\n",
      "\n"
     ]
    }
   ],
   "source": [
    "from sklearn.metrics import classification_report\n",
    "\n",
    "print(\"Fine-tuned model performance:\")\n",
    "print(classification_report(labels_int, y_pred_finetuned, target_names=[\"non-toxic\", \"toxic\"]))\n",
    "\n",
    "print(\"\\n Pretrained model performance:\")\n",
    "print(classification_report(labels_int, y_pred_pretrained, target_names=[\"non-toxic\", \"toxic\"]))\n"
   ]
  },
  {
   "cell_type": "code",
   "execution_count": null,
   "id": "5acea131",
   "metadata": {},
   "outputs": [],
   "source": []
  }
 ],
 "metadata": {
  "kernelspec": {
   "display_name": "base",
   "language": "python",
   "name": "python3"
  },
  "language_info": {
   "codemirror_mode": {
    "name": "ipython",
    "version": 3
   },
   "file_extension": ".py",
   "mimetype": "text/x-python",
   "name": "python",
   "nbconvert_exporter": "python",
   "pygments_lexer": "ipython3",
   "version": "3.11.0"
  }
 },
 "nbformat": 4,
 "nbformat_minor": 5
}
