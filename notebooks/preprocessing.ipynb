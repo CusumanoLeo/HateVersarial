{
 "cells": [
  {
   "cell_type": "code",
   "execution_count": null,
   "id": "6e3ebab9",
   "metadata": {},
   "outputs": [],
   "source": [
    "from datasets import load_dataset\n",
    "import json\n",
    "import numpy as np\n",
    "import random\n",
    "import torch\n",
    "import matplotlib.pyplot as plt\n",
    "import pandas as pd\n",
    "import openai\n",
    "import random\n",
    "import csv\n",
    "from tqdm import tqdm\n",
    "import re\n",
    "from transformers import pipeline, set_seed"
   ]
  },
  {
   "cell_type": "code",
   "execution_count": null,
   "id": "d00f2afe",
   "metadata": {},
   "outputs": [],
   "source": [
    "# set seed for reproducibility \n",
    "def set_seed(seed):\n",
    "    np.random.seed(seed)\n",
    "    random.seed(seed)\n",
    "    torch.manual_seed(seed)\n",
    "    if torch.cuda.is_available():\n",
    "        torch.cuda.manual_seed_all(seed)   \n",
    "set_seed(42)"
   ]
  },
  {
   "cell_type": "markdown",
   "id": "3e3e2271",
   "metadata": {},
   "source": [
    "# Load Dataset"
   ]
  },
  {
   "cell_type": "code",
   "execution_count": null,
   "id": "aaa4c7c2",
   "metadata": {},
   "outputs": [],
   "source": [
    "data_classes_two = np.load('../Data/classes_two.npy', allow_pickle=True)\n",
    "data_classes = np.load('../Data/classes.npy', allow_pickle=True)\n",
    "\n",
    "with open('../Data/dataset.json', 'r') as f:\n",
    "    data = json.load(f)\n",
    "with open('../Data/post_id_divisions.json', 'r') as f:\n",
    "    post_id_divisions = json.load(f)\n",
    "    \n"
   ]
  },
  {
   "cell_type": "markdown",
   "id": "d35042b2",
   "metadata": {},
   "source": [
    "# Inspect Labels"
   ]
  },
  {
   "cell_type": "code",
   "execution_count": 5,
   "id": "8490d3d1",
   "metadata": {},
   "outputs": [],
   "source": [
    "examples_binary = [\n",
    "    (\" \".join(data[k]['post_tokens']), label)\n",
    "    for k, label in zip(data.keys(), data_classes_two)\n",
    "]\n",
    "\n",
    "examples_multiclass = [\n",
    "    (\" \".join(data[k]['post_tokens']), label)\n",
    "    for k, label in zip(data.keys(), data_classes)\n",
    "]"
   ]
  },
  {
   "cell_type": "markdown",
   "id": "1eef8cfa",
   "metadata": {},
   "source": [
    "# Analyse Annotator Disagreements"
   ]
  },
  {
   "cell_type": "code",
   "execution_count": null,
   "id": "c3a57250",
   "metadata": {},
   "outputs": [
    {
     "name": "stdout",
     "output_type": "stream",
     "text": [
      "Total examples: 20148\n",
      "Unanimous (all annotators agree): 9845 (48.86%)\n",
      "Two-label disagreement: 9384 (46.58%)\n",
      "Three-label disagreement: 919 (4.56%)\n"
     ]
    },
    {
     "data": {
      "image/png": "[encoded data removed]",
      "text/plain": [
       "<Figure size 640x480 with 1 Axes>"
      ]
     },
     "metadata": {},
     "output_type": "display_data"
    },
    {
     "name": "stdout",
     "output_type": "stream",
     "text": [
      "\n",
      "Post ID: 14971751_gab\n",
      "Disagreement level: 3\n",
      "Label counts: Counter({'normal': 1, 'offensive': 1, 'hatespeech': 1})\n",
      "Text: i have upgraded your status from gangsta to playa this nigger here understands what real issues are due to his objectivity and foresight\n",
      "\n",
      "Post ID: 1179080731642990592_twitter\n",
      "Disagreement level: 3\n",
      "Label counts: Counter({'offensive': 1, 'normal': 1, 'hatespeech': 1})\n",
      "Text: <user> <user> <user> <user> <user> <user> <user> <user> do not be 😂 i do not need a faggot here for me u sinner 😔\n",
      "\n",
      "Post ID: 25605196_gab\n",
      "Disagreement level: 3\n",
      "Label counts: Counter({'normal': 1, 'offensive': 1, 'hatespeech': 1})\n",
      "Text: last nights black lighting show ov yea such miscasting jewy jewnose is the white guy forcing <number> niglets to deal drugs but blond hergerman is the comet pizza guy keeping powerful niggerette girls trapped in his basement pizzagate seriously visit dc sometime <user> <user> <user> <user> <user> ‍\n",
      "\n",
      "Post ID: 1179083428924231680_twitter\n",
      "Disagreement level: 3\n",
      "Label counts: Counter({'offensive': 1, 'hatespeech': 1, 'normal': 1})\n",
      "Text: <user> <user> <user> <user> bro the world knows the pak is home to many un designated terrorists including osama bin laden same on you as kill all your minorities but in india muslims are happy many are educated rich and peaceful not like paki muslims only spreading hatred\n",
      "\n",
      "Post ID: 2098760_gab\n",
      "Disagreement level: 3\n",
      "Label counts: Counter({'offensive': 1, 'normal': 1, 'hatespeech': 1})\n",
      "Text: popped into ze ecuadorian embassy today ran into mein nigger ju ass we shared a scone or was it ein sophisticated scone eating robot\n"
     ]
    }
   ],
   "source": [
    "from collections import Counter\n",
    "import matplotlib.pyplot as plt\n",
    "import json\n",
    "\n",
    "def compute_annotator_disagreement(dataset, verbose=False, return_top_n=0, plot=False):\n",
    "    \"\"\"\n",
    "    Compute the number of unique labels assigned by annotators for each post,\n",
    "    and optionally plot disagreement distribution.\n",
    "    \n",
    "    Args:\n",
    "        dataset (dict): Loaded JSON dataset\n",
    "        verbose (bool): Print summary stats\n",
    "        return_top_n (int): If >0, return top N most disagreed examples\n",
    "        plot (bool): If True, plot a histogram of disagreement levels\n",
    "\n",
    "    Returns:\n",
    "        disagreement_stats (list of tuples): (post_id, disagreement_count, label_counter)\n",
    "        top_disagreements (optional): top N posts with highest disagreement\n",
    "    \"\"\"\n",
    "    disagreement_stats = []\n",
    "\n",
    "    for post_id, content in dataset.items():\n",
    "        labels = [ann['label'] for ann in content.get('annotators', [])]\n",
    "        label_counter = Counter(labels)\n",
    "        disagreement_count = len(label_counter)\n",
    "        disagreement_stats.append((post_id, disagreement_count, label_counter))\n",
    "\n",
    "    if verbose:\n",
    "        total = len(disagreement_stats)\n",
    "        unanimous = sum(1 for _, c, _ in disagreement_stats if c == 1)\n",
    "        mild_disagreement = sum(1 for _, c, _ in disagreement_stats if c == 2)\n",
    "        full_disagreement = sum(1 for _, c, _ in disagreement_stats if c >= 3)\n",
    "\n",
    "        print(f\"Total examples: {total}\")\n",
    "        print(f\"Unanimous (all annotators agree): {unanimous} ({unanimous/total:.2%})\")\n",
    "        print(f\"Two-label disagreement: {mild_disagreement} ({mild_disagreement/total:.2%})\")\n",
    "        print(f\"Three-label disagreement: {full_disagreement} ({full_disagreement/total:.2%})\")\n",
    "\n",
    "    if plot:\n",
    "        disagreement_counts = [c for _, c, _ in disagreement_stats]\n",
    "        count_dist = Counter(disagreement_counts)\n",
    "        plt.bar(count_dist.keys(), count_dist.values(), color='gray')\n",
    "        plt.xlabel(\"Number of unique labels (Disagreement level)\")\n",
    "        plt.ylabel(\"Number of posts\")\n",
    "        plt.title(\"Annotator Disagreement Distribution\")\n",
    "        plt.xticks([1, 2, 3])\n",
    "        plt.grid(True, axis='y', linestyle='--', alpha=0.7)\n",
    "        plt.tight_layout()\n",
    "        plt.show()\n",
    "\n",
    "    if return_top_n > 0:\n",
    "        top_disagreements = sorted(disagreement_stats, key=lambda x: -x[1])[:return_top_n]\n",
    "        return disagreement_stats, top_disagreements\n",
    "\n",
    "    return disagreement_stats\n",
    "\n",
    "\n",
    "\n",
    "with open('../Data/dataset.json', 'r') as f:\n",
    "    dataset = json.load(f)\n",
    "\n",
    "disagreement_stats, top_disagreements = compute_annotator_disagreement(dataset, verbose=True, return_top_n=5, plot=True)\n",
    "\n",
    "# Print top 5 most disagreed examples\n",
    "for post_id, count, label_counts in top_disagreements:\n",
    "    print(f\"\\nPost ID: {post_id}\")\n",
    "    print(f\"Disagreement level: {count}\")\n",
    "    print(f\"Label counts: {label_counts}\")\n",
    "    print(f\"Text: {' '.join(dataset[post_id]['post_tokens'])}\")\n",
    "\n"
   ]
  },
  {
   "cell_type": "markdown",
   "id": "29cd501f",
   "metadata": {},
   "source": [
    "# Resolve Disagreements"
   ]
  },
  {
   "cell_type": "code",
   "execution_count": 28,
   "id": "fd53c2b2",
   "metadata": {},
   "outputs": [
    {
     "name": "stdout",
     "output_type": "stream",
     "text": [
      "Unanimous: 9845, Offensive vs Hatespeech: 3916, Normal vs Other: 5468, Skipped (3-label): 919\n"
     ]
    }
   ],
   "source": [
    "from collections import Counter\n",
    "\n",
    "def resolve_disagreements_custom(dataset, disagreement_stats):\n",
    "    resolved = []\n",
    "    counter_unanimous = 0\n",
    "    counter_hatespeech = 0\n",
    "    counter_off_normal = 0\n",
    "    counter_skipped = 0\n",
    "\n",
    "    for post_id, disagreement, label_counts in disagreement_stats:\n",
    "        if disagreement == 3:\n",
    "            counter_skipped += 1\n",
    "            continue  # skip level 3 disagreements\n",
    "\n",
    "        text = \" \".join(dataset[post_id]['post_tokens'])\n",
    "        labels = list(label_counts.elements())\n",
    "        label_set = set(label_counts.keys())\n",
    "\n",
    "        # Case 1: unanimous\n",
    "        if disagreement == 1:\n",
    "            counter_unanimous += 1\n",
    "            resolved_label = labels[0]\n",
    "\n",
    "        # Case 2: offensive vs hatespeech → resolve as hatespeech\n",
    "        elif disagreement == 2 and label_set == {\"offensive\", \"hatespeech\"}:\n",
    "            counter_hatespeech += 1\n",
    "            resolved_label = \"hatespeech\"\n",
    "\n",
    "        # Case 3: normal vs offensive or normal vs hatespeech → majority\n",
    "        else:\n",
    "            counter_off_normal += 1\n",
    "            resolved_label = Counter(labels).most_common(1)[0][0]\n",
    "\n",
    "        resolved.append((text, resolved_label))\n",
    "\n",
    "    print(f\"Unanimous: {counter_unanimous}, Offensive vs Hatespeech: {counter_hatespeech}, Normal vs Other: {counter_off_normal}, Skipped (3-label): {counter_skipped}\")\n",
    "    return resolved\n",
    "\n",
    "\n",
    "resolved_examples_custom = resolve_disagreements_custom(dataset, disagreement_stats)"
   ]
  },
  {
   "cell_type": "markdown",
   "id": "26337047",
   "metadata": {},
   "source": [
    "# Binarize data"
   ]
  },
  {
   "cell_type": "code",
   "execution_count": 29,
   "id": "6d82b6de",
   "metadata": {},
   "outputs": [],
   "source": [
    "# map hatespeech to 'toxic' and normal to 'non-toxic' and ignore offensive\n",
    "data_binary = [\n",
    "    (text, 'toxic' if label == 'hatespeech' else 'non-toxic')\n",
    "    for text, label in resolved_examples_custom if label != 'offensive'\n",
    "]"
   ]
  },
  {
   "cell_type": "code",
   "execution_count": 31,
   "id": "6e6d8b58",
   "metadata": {},
   "outputs": [
    {
     "data": {
      "image/png": "[encoded data removed]",
      "text/plain": [
       "<Figure size 640x480 with 1 Axes>"
      ]
     },
     "metadata": {},
     "output_type": "display_data"
    }
   ],
   "source": [
    "label_counts = Counter(label for _, label in data_binary)\n",
    "total = sum(label_counts.values())\n",
    "label_percentages = {label: (count / total) * 100 for label, count in label_counts.items()}\n",
    "\n",
    "plt.bar(label_percentages.keys(), label_percentages.values())\n",
    "plt.xlabel('Labels')\n",
    "plt.ylabel('Percentage (%)')\n",
    "plt.title('Distribution of Labels (Percentage)')\n",
    "plt.xticks(rotation=45)\n",
    "plt.show()"
   ]
  },
  {
   "cell_type": "code",
   "execution_count": 33,
   "id": "177e74fa",
   "metadata": {},
   "outputs": [
    {
     "data": {
      "image/png": "[encoded data removed]",
      "text/plain": [
       "<Figure size 600x400 with 1 Axes>"
      ]
     },
     "metadata": {},
     "output_type": "display_data"
    }
   ],
   "source": [
    "import matplotlib.pyplot as plt\n",
    "from collections import Counter\n",
    "\n",
    "# Count and percentage\n",
    "label_counts = Counter(label for _, label in data_binary)\n",
    "total = sum(label_counts.values())\n",
    "label_percentages = {label: (count / total) * 100 for label, count in label_counts.items()}\n",
    "\n",
    "# Plot\n",
    "fig, ax = plt.subplots(figsize=(6, 4))\n",
    "bars = ax.bar(label_percentages.keys(), label_percentages.values(), color=\"#4C72B0\")\n",
    "\n",
    "# Add percentage labels on top of bars\n",
    "for bar in bars:\n",
    "    height = bar.get_height()\n",
    "    ax.text(bar.get_x() + bar.get_width()/2, height + 1, f'{height:.1f}%', \n",
    "            ha='center', va='bottom', fontsize=10)\n",
    "\n",
    "# Aesthetics\n",
    "ax.set_xlabel('Labels', fontsize=12)\n",
    "ax.set_ylabel('Percentage (%)', fontsize=12)\n",
    "ax.set_title('Label Distribution in Binary Dataset', fontsize=13)\n",
    "ax.set_ylim(0, max(label_percentages.values()) + 10)\n",
    "ax.tick_params(axis='x', rotation=0)\n",
    "\n",
    "plt.tight_layout()\n",
    "plt.show()\n"
   ]
  },
  {
   "cell_type": "markdown",
   "id": "59a22732",
   "metadata": {},
   "source": [
    "# Data Augmentation"
   ]
  },
  {
   "cell_type": "code",
   "execution_count": null,
   "id": "dedb7590",
   "metadata": {},
   "outputs": [],
   "source": [
    "# Set your API key\n",
    "openai.api_key = \"api-key\" # alternative : use gpt online \n",
    "\n",
    "# Output paths\n",
    "toxic_path = '../augmented_data/combined-toxic.csv'\n",
    "non_toxic_path = '../augmented_data/combined-non-toxic.csv'\n",
    "\n",
    "# Define content themes\n",
    "toxic_themes = [\n",
    "    \"racist insult\", \"xenophobic comment\", \"dog-whistle about minorities\",\n",
    "    \"conspiracy targeting outgroups\", \"coded political hate\", \"antisemitic trope\",\n",
    "    \"homophobic undertone\", \"sexist stereotype\"\n",
    "]\n",
    "\n",
    "nontoxic_themes = [\n",
    "    \"everyday frustrations\", \"inclusive message\", \"light sarcasm\", \"neutral personal update\",\n",
    "    \"work-related stress\", \"supportive opinion\", \"mild swearing in humor\", \"relatable complaint\"\n",
    "]\n",
    "\n",
    "# Build prompt templates\n",
    "def build_prompt(theme, label):\n",
    "    if label == \"toxic\":\n",
    "        return (\n",
    "            f\"Write a short social media post (1–2 sentences) that expresses '{theme}' \"\n",
    "            f\"in a subtle, implicit, or disguised way. Avoid using explicit slurs. \"\n",
    "            f\"The post should sound realistic and resemble content someone might write online to evade moderation.\"\n",
    "        )\n",
    "    else:\n",
    "        return (\n",
    "            f\"Write a short, realistic social media post (1–2 sentences) about '{theme}'. \"\n",
    "            f\"It can include humor, sarcasm, or mild profanity, but should not sound toxic or hateful.\"\n",
    "        )\n",
    "\n",
    "def generate_post(theme, label, model=\"gpt-4\", temperature=0.9, max_tokens=80):\n",
    "    prompt = build_prompt(theme, label)\n",
    "    try:\n",
    "        response = openai.ChatCompletion.create(\n",
    "            model=model,\n",
    "            messages=[{\"role\": \"user\", \"content\": prompt}],\n",
    "            temperature=temperature,\n",
    "            max_tokens=max_tokens,\n",
    "        )\n",
    "        return response.choices[0].message.content.strip()\n",
    "    except Exception as e:\n",
    "        print(f\"[ERROR] Theme: {theme}, Label: {label}, Error: {e}\")\n",
    "        return None\n",
    "\n",
    "\n",
    "# Load generation and paraphrasing models\n",
    "generator = pipeline(\"text-generation\", model=\"gpt2\", device=0)  # use -1 if no GPU\n",
    "paraphraser = pipeline(\"text2text-generation\", model=\"Vamsi/T5_Paraphrase_Paws\", device=0)\n",
    "\n",
    "# Curse words and template prompts\n",
    "curse_words = [\"fuck\", \"shit\", \"damn\", \"bitch\", \"asshole\", \"hell\", \"crap\"]\n",
    "frames = [\n",
    "    \"Write a sentence with the word '{word}' that is frustrated but not hateful:\",\n",
    "    \"Use the word '{word}' in a casual, non-toxic sentence:\",\n",
    "    \"Make a funny or exaggerated sentence using '{word}' in a non-offensive way:\"\n",
    "]\n",
    "\n",
    "PROMPTS = [frame.format(word=w) for w in curse_words for frame in frames]\n",
    "\n",
    "# Clean sentence after generation\n",
    "def clean_sentence(text, max_sentences=2):\n",
    "    sentences = re.findall(r'[^.!?]*[.!?]', text)\n",
    "    clean = ' '.join(sentences[:max_sentences]).strip()\n",
    "    return clean if clean else text.strip()\n",
    "\n",
    "# Simple profanity filter\n",
    "def contains_profane_word(text, profane_words=None):\n",
    "    profane_words = profane_words or set(curse_words)\n",
    "    return any(re.search(rf\"\\b{re.escape(word)}\\b\", text.lower()) for word in profane_words)\n",
    "\n",
    "def try_paraphrase(text, paraphraser):\n",
    "    try:\n",
    "        response = paraphraser(f\"paraphrase: {text}\", max_length=60, do_sample=True, top_k=120, top_p=0.95, num_return_sequences=1)\n",
    "        return response[0]['generated_text'].strip()\n",
    "    except:\n",
    "        return None\n",
    "\n",
    "def generate_profane_non_toxic(generator, prompts, paraphraser=None, n_per_prompt=5, max_length=50):\n",
    "    results = []\n",
    "\n",
    "    for prompt in prompts:\n",
    "        try:\n",
    "            outputs = generator(prompt, max_length=max_length, num_return_sequences=n_per_prompt, do_sample=True, temperature=0.95, pad_token_id=50256)\n",
    "        except Exception as e:\n",
    "            print(f\"Error generating from prompt: {prompt}\\n{e}\")\n",
    "            continue\n",
    "\n",
    "        for out in outputs:\n",
    "            full_text = out[\"generated_text\"]\n",
    "            generated = full_text.replace(prompt, \"\").strip()\n",
    "            clean = clean_sentence(generated)\n",
    "\n",
    "            if len(clean.split()) >= 5 and contains_profane_word(clean):\n",
    "                results.append({\n",
    "                    \"text\": clean,\n",
    "                    \"label\": \"non-toxic\",\n",
    "                    \"source\": \"synthetic_profanity\",\n",
    "                    \"paraphrased\": False,\n",
    "                    \"prompt\": prompt\n",
    "                })\n",
    "\n",
    "                # Try paraphrasing\n",
    "                if paraphraser:\n",
    "                    paraphrased = try_paraphrase(clean, paraphraser)\n",
    "                    if paraphrased and contains_profane_word(paraphrased):\n",
    "                        results.append({\n",
    "                            \"text\": paraphrased,\n",
    "                            \"label\": \"non-toxic\",\n",
    "                            \"source\": \"synthetic_profanity_paraphrased\",\n",
    "                            \"paraphrased\": True,\n",
    "                            \"prompt\": prompt\n",
    "                        })\n",
    "    return results\n",
    "\n",
    "def generate_examples(label, themes, n_samples, outfile):\n",
    "    examples = []\n",
    "    for _ in tqdm(range(n_samples), desc=f\"Generating {label}\"):\n",
    "        theme = random.choice(themes)\n",
    "        text = generate_post(theme, label)\n",
    "        if text:\n",
    "            examples.append([text, label])\n",
    "    # Save to CSV\n",
    "    with open(outfile, \"w\", newline='', encoding=\"utf-8\") as f:\n",
    "        writer = csv.writer(f)\n",
    "        writer.writerow([\"text\", \"label\"])\n",
    "        writer.writerows(examples)\n",
    "    print(f\"✅ Saved {label} samples to {outfile}\")\n"
   ]
  },
  {
   "cell_type": "code",
   "execution_count": null,
   "id": "7eaaa139",
   "metadata": {},
   "outputs": [],
   "source": [
    "# Run both generations\n",
    "# generate_examples(\"toxic\", toxic_themes, n_samples=150, outfile=toxic_path)\n",
    "# generate_examples(\"non-toxic\", nontoxic_themes, n_samples=150, outfile=non_toxic_path)"
   ]
  },
  {
   "cell_type": "code",
   "execution_count": null,
   "id": "a584e5a6",
   "metadata": {},
   "outputs": [],
   "source": [
    "not_toxic_path = '../augmented_data/combined-non-toxic.csv'\n",
    "toxic_path = '../augmented_data/combined-toxic.csv'\n",
    "\n",
    "# csv to list\n",
    "not_toxic_extra= pd.read_csv(not_toxic_path)['text'].tolist()\n",
    "toxic_extra = pd.read_csv(toxic_path)['text'].tolist()"
   ]
  },
  {
   "cell_type": "code",
   "execution_count": 4,
   "id": "5b276356",
   "metadata": {},
   "outputs": [
    {
     "data": {
      "text/plain": [
       "(152, 206)"
      ]
     },
     "execution_count": 4,
     "metadata": {},
     "output_type": "execute_result"
    }
   ],
   "source": [
    "len(not_toxic_extra), len(toxic_extra)\n"
   ]
  }
 ],
 "metadata": {
  "kernelspec": {
   "display_name": "base",
   "language": "python",
   "name": "python3"
  },
  "language_info": {
   "codemirror_mode": {
    "name": "ipython",
    "version": 3
   },
   "file_extension": ".py",
   "mimetype": "text/x-python",
   "name": "python",
   "nbconvert_exporter": "python",
   "pygments_lexer": "ipython3",
   "version": "3.11.0"
  }
 },
 "nbformat": 4,
 "nbformat_minor": 5
}
