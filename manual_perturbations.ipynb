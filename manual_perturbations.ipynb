{
 "cells": [
  {
   "cell_type": "code",
   "execution_count": 1,
   "id": "1fdf7b6a",
   "metadata": {},
   "outputs": [],
   "source": [
    "import requests\n",
    "from collections import defaultdict"
   ]
  },
  {
   "cell_type": "markdown",
   "id": "ac9d78ec",
   "metadata": {},
   "source": [
    "### Using unicode database for homoglyphs\n",
    "https://www.unicode.org/reports/tr39/ :\n",
    "\n",
    "**Summary**\n",
    "Because Unicode contains such a large number of characters and incorporates the varied writing systems of the world, incorrect usage can expose programs or systems to possible security attacks. This document specifies mechanisms that can be used to detect possible security problems.\n",
    "\n",
    "**Status**\n",
    "This document has been reviewed by Unicode members and other interested parties, and has been approved for publication by the Unicode Consortium. This is a stable document and may be used as reference material or cited as a normative reference by other specifications."
   ]
  },
  {
   "cell_type": "code",
   "execution_count": 2,
   "id": "6a433956",
   "metadata": {},
   "outputs": [],
   "source": [
    "def build_homoglyph_map():\n",
    "    url = \"https://www.unicode.org/Public/security/latest/confusables.txt\" \n",
    "    response = requests.get(url) # Fetch the confusables data\n",
    "    raw_text = response.text     # Get the text content\n",
    "\n",
    "    homoglyph_map = defaultdict(list) \n",
    "\n",
    "    for line in raw_text.splitlines():\n",
    "        if line.startswith('#') or not line.strip(): # Skip comments and empty lines\n",
    "            continue\n",
    "        try:\n",
    "            src_hex, target_hex, *_ = line.split(';') # \n",
    "            src_char = chr(int(src_hex.strip(), 16))\n",
    "            target_chars = ''.join([chr(int(h, 16)) for h in target_hex.strip().split()])\n",
    "\n",
    "            # We only want visually similar substitutions that map to 1 character\n",
    "            if len(src_char) == 1 and len(target_chars) == 1:\n",
    "                ascii_base = target_chars.lower()\n",
    "                if ascii_base.isascii() and ascii_base.isalnum():\n",
    "                    homoglyph_map[ascii_base].append(src_char)\n",
    "        except Exception as e:\n",
    "            continue  # skip malformed lines\n",
    "\n",
    "    # Convert defaultdict to normal dict and deduplicate entries\n",
    "    homoglyph_map = {k: list(set(v)) for k, v in homoglyph_map.items()}\n",
    "\n",
    "    return homoglyph_map\n",
    "\n"
   ]
  },
  {
   "cell_type": "code",
   "execution_count": 3,
   "id": "c6cbb72b",
   "metadata": {},
   "outputs": [
    {
     "name": "stdout",
     "output_type": "stream",
     "text": [
      "a → ['𝔞', '𝗔', '𝚨', 'а', '𝔄', '𝘼', '𝘈', '𝛂', 'Α', '𐊠', '𝓐', '𝖆', 'А', '𝕬', '𝐀', '𝞪', '𝖺', '𝞐', '𝙖', '𝑨', '𝒶', '𝖠', '𝐚', 'ꓮ', 'ɑ', '⍺', '𖽀', '𝙰', '𝒜', '𝒂', 'ᗅ', '𝕒', 'Ａ', '𝓪', '𝚊', '\\U0001ccd6', '𝜶', '𝗮', 'ａ', '𝛢', '𝝰', '𝝖', 'α', '𝔸', 'Ꭺ', '𝘢', '𝛼', '𝐴', '𝑎', '𝜜']\n",
      "e → ['𝛦', 'ℯ', '𝗲', '𝕰', '𝑒', '𝖤', 'ⴹ', 'Ε', '𑢮', '𝑬', '℮', '𝙴', '⋿', '𝖾', '𝗘', '𝜠', 'Ｅ', '𝔼', '𝓮', 'ꬲ', '𝔢', '𝓔', 'Е', '𝔈', '𝘦', 'ｅ', '𑢦', '𝚬', '𝚎', 'ⅇ', '𝐸', '𝙀', '𝖊', '𝐄', '𝐞', '𐊆', '𝞔', '\\U0001ccda', '𝘌', 'е', 'ℰ', '𝝚', '𝒆', '𝕖', 'ꓰ', 'Ꭼ', 'ҽ', '𝙚']\n",
      "i → ['𝗶', 'ｉ', 'ι', 'ꙇ', '𝜾', '˛', '𝐢', 'ӏ', '𝓲', '𝒾', '𝙞', '𝘪', 'ι', 'і', '𝗂', '𝑖', '𝒊', '𝚤', '⍳', 'ɩ', 'ı', 'ɪ', '𝕚', '𑣃', '𝖎', '𝚒', '𝞲', '𝔦', 'ꭵ', 'Ꭵ', 'ℹ', '𝛊', 'ⅰ', '𝜄', 'ⅈ', '𝝸', 'ͺ']\n",
      "o → ['०', '𝚶', '𝘖', 'ⲟ', 'ﮪ', '𝝄', 'ﻬ', '𞺄', '𝜪', '𐊒', '౦', '𝙾', 'ﻪ', '໐', 'О', 'ە', 'ﮧ', '۵', '𝗢', 'о', '𐓪', '๐', '𝕠', '𝛰', '𝘰', 'ಂ', '𑣗', 'ꬽ', 'ഠ', '𝝤', 'Օ', '𝕺', 'ﻩ', '೦', 'ﮫ', '0', '𑣈', '𝐨', '𐓂', '𝟘', '🯰', 'ం', 'ᴑ', '𝞞', '𝒐', '𝑶', '𝛔', '𝗼', '\\U0001ccf0', 'ං', '𝓸', '𝛐', 'ﮦ', '𝟎', '𝝈', '𝟬', '𝗈', 'ဝ', '𑓐', '𐐬', 'օ', '𝝾', 'ｏ', '୦', '০', 'ꓳ', '𝚘', 'ہ', '𝒪', '𑣠', 'ჿ', '𝙊', '𝟶', '੦', '𐊫', '𝓞', '𝞼', 'Ο', '൦', '\\U0001cce4', '߀', 'ዐ', 'ം', 'σ', 'ه', 'ﻫ', '𝟢', '𞹤', '૦', '𝖮', 'ﮨ', '𝜎', '𝔬', '𝑜', '𞸤', '𝖔', '𝞂', '𝕆', 'ℴ', 'ⵔ', 'ଠ', '〇', 'ﮬ', '௦', 'ס', 'ﮭ', 'Ⲟ', '𝜊', 'Ｏ', 'ᴏ', '𝔒', '𑢵', '𐔖', '𐐄', '𝑂', '𝙤', '٥', 'ο', 'ﮩ', '၀', '𝐎', 'ھ', '𝞸']\n",
      "s → ['𝑆', 'Ꮪ', 'Ѕ', '𝕊', '𝘀', '𝔰', '𝒔', '𝓼', 'ѕ', '𐊖', '𝑺', '𝔖', '𝓢', '𝘚', '𑣁', '\\U0001cce8', '𐐠', '𝖘', '𝐒', 'Ꮥ', '𝑠', '𝖲', 'Տ', '𝚜', '𐑈', 'ꓢ', '𝕾', 'ꜱ', '𝗌', '𝘴', '𝙨', '𝒮', '𝙎', '𝚂', '𝐬', '𝓈', 'ꮪ', '𖼺', '𝕤', 'ｓ', 'Ｓ', '𝗦', 'ƽ']\n",
      "t → ['𝕿', 'ꓔ', '𝐭', '𝑻', 'Τ', '𝙏', '𝜯', '𝘵', '𝗧', '𝗍', '𝖳', '𐊱', '𐊗', '𝕋', '𝑇', '𝓉', '𝘁', '𝝩', '𝑡', 'Ｔ', '𝒕', '𑢼', '𝔱', 'Т', '𝘛', '𝚝', '𝚃', '𝐓', 'Ⲧ', '𝞣', '𝓣', '𝚻', '𐌕', '𝖙', '𖼊', '𝒯', '𝛵', '🝨', '⟙', '𝙩', '\\U0001cce9', '⊤', 'Ꭲ', '𝔗', '𝕥', '𝓽']\n"
     ]
    }
   ],
   "source": [
    "# Some letters to test\n",
    "if __name__ == \"__main__\":\n",
    "    homoglyph_map = build_homoglyph_map()\n",
    "    for letter in ['a', 'e', 'i', 'o', 's', 't']:\n",
    "        print(f\"{letter} → {homoglyph_map.get(letter, [])}\")"
   ]
  },
  {
   "cell_type": "markdown",
   "id": "5c57e281",
   "metadata": {},
   "source": [
    "### Leetspeak perturbations\n",
    "\n",
    "https://pypi.org/project/pyleetspeak/\n",
    "\n",
    "This tool aims to counter new misinformation that emerges in social media platforms by providing a mechanism for simulating and generating leetspeak/word camouflaging data."
   ]
  },
  {
   "cell_type": "code",
   "execution_count": null,
   "id": "660a0dfd",
   "metadata": {},
   "outputs": [],
   "source": [
    "# ! pip install pyleetspeak\n",
    "# ! pip install pyphen\n",
    "# ! pip install keybert\n",
    "# ! pip install codetiming"
   ]
  },
  {
   "cell_type": "code",
   "execution_count": 4,
   "id": "668f19da",
   "metadata": {},
   "outputs": [],
   "source": [
    "from pyleetspeak.LeetSpeaker import LeetSpeaker\n",
    "from pyleetspeak.Leet_NER_generator import NER_data_generator\n"
   ]
  },
  {
   "cell_type": "code",
   "execution_count": 5,
   "id": "48abc650",
   "metadata": {},
   "outputs": [
    {
     "name": "stdout",
     "output_type": "stream",
     "text": [
      "I sp34k l3etsp3@k\n"
     ]
    }
   ],
   "source": [
    "# Example usage\n",
    "text_in = \"I speak leetspeak\"\n",
    "leeter = LeetSpeaker(\n",
    "    change_prb=0.8, change_frq=0.6, mode=\"basic\", seed=None, verbose=False\n",
    ")\n",
    "leet_result = leeter.text2leet(text_in)\n",
    "print(leet_result)\n"
   ]
  },
  {
   "cell_type": "code",
   "execution_count": 6,
   "id": "77ce8543",
   "metadata": {},
   "outputs": [
    {
     "name": "stdout",
     "output_type": "stream",
     "text": [
      "['hate', 'hat3', 'h@te', 'h4t3', 'h4te', 'h@t3']\n"
     ]
    }
   ],
   "source": [
    "# All possible combinations\n",
    "leeter = LeetSpeaker(get_all_combs=True, mode=\"basic\")\n",
    "combinations = leeter.text2leet(\"hate\")\n",
    "print(combinations)  # list of strings\n"
   ]
  },
  {
   "cell_type": "code",
   "execution_count": 7,
   "id": "8f74851e",
   "metadata": {},
   "outputs": [
    {
     "name": "stdout",
     "output_type": "stream",
     "text": [
      "Clean:     I hate you\n",
      "Augmented: 1 hat3 y0_\n",
      "---\n",
      "Clean:     Go back to your country\n",
      "Augmented: Go b@ck to your country\n",
      "---\n",
      "Clean:     You are disgusting\n",
      "Augmented: You @r3 d1sgust1ng\n",
      "---\n"
     ]
    }
   ],
   "source": [
    "leeter = LeetSpeaker(\n",
    "    change_prb=0.6,     # probability of changing each char\n",
    "    change_frq=0.6,     # frequency across the whole string\n",
    "    mode=\"basic\",       # you can try \"intermediate\" or \"advanced\" too\n",
    "    seed=42,            # set for reproducibility\n",
    "    verbose=False\n",
    ")\n",
    "\n",
    "texts = [\n",
    "    \"I hate you\",\n",
    "    \"Go back to your country\",\n",
    "    \"You are disgusting\"\n",
    "]\n",
    "\n",
    "augmented_texts = [leeter.text2leet(t) for t in texts]\n",
    "\n",
    "for clean, aug in zip(texts, augmented_texts):\n",
    "    print(f\"Clean:     {clean}\")\n",
    "    print(f\"Augmented: {aug}\")\n",
    "    print(\"---\")\n",
    "\n"
   ]
  }
 ],
 "metadata": {
  "kernelspec": {
   "display_name": "base",
   "language": "python",
   "name": "python3"
  },
  "language_info": {
   "codemirror_mode": {
    "name": "ipython",
    "version": 3
   },
   "file_extension": ".py",
   "mimetype": "text/x-python",
   "name": "python",
   "nbconvert_exporter": "python",
   "pygments_lexer": "ipython3",
   "version": "3.11.0"
  }
 },
 "nbformat": 4,
 "nbformat_minor": 5
}
